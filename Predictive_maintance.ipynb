{
  "nbformat": 4,
  "nbformat_minor": 0,
  "metadata": {
    "colab": {
      "name": "Predictive maintance.ipynb",
      "provenance": []
    },
    "kernelspec": {
      "name": "python3",
      "display_name": "Python 3"
    },
    "language_info": {
      "name": "python"
    }
  },
  "cells": [
    {
      "cell_type": "code",
      "metadata": {
        "colab": {
          "base_uri": "https://localhost:8080/",
          "height": 408
        },
        "id": "mXU-yV_5q11w",
        "outputId": "f57d8577-3b74-4b01-9238-a843fe1d5176"
      },
      "source": [
        "import pandas as pd\n",
        "import numpy as np\n",
        "import matplotlib.pyplot as plt\n",
        "import seaborn as sns\n",
        "df = pd.read_csv(\"ai4i2020.csv\")\n",
        "df.drop(['UDI', 'Product ID', 'TWF', 'HDF', 'PWF', 'OSF', 'RNF'], axis=1, inplace=True)\n",
        "df"
      ],
      "execution_count": 2,
      "outputs": [
        {
          "output_type": "execute_result",
          "data": {
            "text/html": [
              "<div>\n",
              "<style scoped>\n",
              "    .dataframe tbody tr th:only-of-type {\n",
              "        vertical-align: middle;\n",
              "    }\n",
              "\n",
              "    .dataframe tbody tr th {\n",
              "        vertical-align: top;\n",
              "    }\n",
              "\n",
              "    .dataframe thead th {\n",
              "        text-align: right;\n",
              "    }\n",
              "</style>\n",
              "<table border=\"1\" class=\"dataframe\">\n",
              "  <thead>\n",
              "    <tr style=\"text-align: right;\">\n",
              "      <th></th>\n",
              "      <th>Type</th>\n",
              "      <th>Air temperature [K]</th>\n",
              "      <th>Process temperature [K]</th>\n",
              "      <th>Rotational speed [rpm]</th>\n",
              "      <th>Torque [Nm]</th>\n",
              "      <th>Tool wear [min]</th>\n",
              "      <th>Machine failure</th>\n",
              "    </tr>\n",
              "  </thead>\n",
              "  <tbody>\n",
              "    <tr>\n",
              "      <th>0</th>\n",
              "      <td>M</td>\n",
              "      <td>298.1</td>\n",
              "      <td>308.6</td>\n",
              "      <td>1551</td>\n",
              "      <td>42.8</td>\n",
              "      <td>0</td>\n",
              "      <td>0</td>\n",
              "    </tr>\n",
              "    <tr>\n",
              "      <th>1</th>\n",
              "      <td>L</td>\n",
              "      <td>298.2</td>\n",
              "      <td>308.7</td>\n",
              "      <td>1408</td>\n",
              "      <td>46.3</td>\n",
              "      <td>3</td>\n",
              "      <td>0</td>\n",
              "    </tr>\n",
              "    <tr>\n",
              "      <th>2</th>\n",
              "      <td>L</td>\n",
              "      <td>298.1</td>\n",
              "      <td>308.5</td>\n",
              "      <td>1498</td>\n",
              "      <td>49.4</td>\n",
              "      <td>5</td>\n",
              "      <td>0</td>\n",
              "    </tr>\n",
              "    <tr>\n",
              "      <th>3</th>\n",
              "      <td>L</td>\n",
              "      <td>298.2</td>\n",
              "      <td>308.6</td>\n",
              "      <td>1433</td>\n",
              "      <td>39.5</td>\n",
              "      <td>7</td>\n",
              "      <td>0</td>\n",
              "    </tr>\n",
              "    <tr>\n",
              "      <th>4</th>\n",
              "      <td>L</td>\n",
              "      <td>298.2</td>\n",
              "      <td>308.7</td>\n",
              "      <td>1408</td>\n",
              "      <td>40.0</td>\n",
              "      <td>9</td>\n",
              "      <td>0</td>\n",
              "    </tr>\n",
              "    <tr>\n",
              "      <th>...</th>\n",
              "      <td>...</td>\n",
              "      <td>...</td>\n",
              "      <td>...</td>\n",
              "      <td>...</td>\n",
              "      <td>...</td>\n",
              "      <td>...</td>\n",
              "      <td>...</td>\n",
              "    </tr>\n",
              "    <tr>\n",
              "      <th>9995</th>\n",
              "      <td>M</td>\n",
              "      <td>298.8</td>\n",
              "      <td>308.4</td>\n",
              "      <td>1604</td>\n",
              "      <td>29.5</td>\n",
              "      <td>14</td>\n",
              "      <td>0</td>\n",
              "    </tr>\n",
              "    <tr>\n",
              "      <th>9996</th>\n",
              "      <td>H</td>\n",
              "      <td>298.9</td>\n",
              "      <td>308.4</td>\n",
              "      <td>1632</td>\n",
              "      <td>31.8</td>\n",
              "      <td>17</td>\n",
              "      <td>0</td>\n",
              "    </tr>\n",
              "    <tr>\n",
              "      <th>9997</th>\n",
              "      <td>M</td>\n",
              "      <td>299.0</td>\n",
              "      <td>308.6</td>\n",
              "      <td>1645</td>\n",
              "      <td>33.4</td>\n",
              "      <td>22</td>\n",
              "      <td>0</td>\n",
              "    </tr>\n",
              "    <tr>\n",
              "      <th>9998</th>\n",
              "      <td>H</td>\n",
              "      <td>299.0</td>\n",
              "      <td>308.7</td>\n",
              "      <td>1408</td>\n",
              "      <td>48.5</td>\n",
              "      <td>25</td>\n",
              "      <td>0</td>\n",
              "    </tr>\n",
              "    <tr>\n",
              "      <th>9999</th>\n",
              "      <td>M</td>\n",
              "      <td>299.0</td>\n",
              "      <td>308.7</td>\n",
              "      <td>1500</td>\n",
              "      <td>40.2</td>\n",
              "      <td>30</td>\n",
              "      <td>0</td>\n",
              "    </tr>\n",
              "  </tbody>\n",
              "</table>\n",
              "<p>10000 rows × 7 columns</p>\n",
              "</div>"
            ],
            "text/plain": [
              "     Type  Air temperature [K]  ...  Tool wear [min]  Machine failure\n",
              "0       M                298.1  ...                0                0\n",
              "1       L                298.2  ...                3                0\n",
              "2       L                298.1  ...                5                0\n",
              "3       L                298.2  ...                7                0\n",
              "4       L                298.2  ...                9                0\n",
              "...   ...                  ...  ...              ...              ...\n",
              "9995    M                298.8  ...               14                0\n",
              "9996    H                298.9  ...               17                0\n",
              "9997    M                299.0  ...               22                0\n",
              "9998    H                299.0  ...               25                0\n",
              "9999    M                299.0  ...               30                0\n",
              "\n",
              "[10000 rows x 7 columns]"
            ]
          },
          "metadata": {
            "tags": []
          },
          "execution_count": 2
        }
      ]
    },
    {
      "cell_type": "code",
      "metadata": {
        "colab": {
          "base_uri": "https://localhost:8080/",
          "height": 408
        },
        "id": "5jzFrqw0rs6Z",
        "outputId": "5d4927b5-e59b-4b9b-f0d4-2a01bab8fd2b"
      },
      "source": [
        "\n",
        "from sklearn.preprocessing import LabelEncoder\n",
        "labelencoder_X_1 = LabelEncoder()\n",
        "df.iloc[:, 0] = labelencoder_X_1.fit_transform(df.iloc[:, 0])\n",
        "#df = pd.get_dummies(df, columns=[\"Type\"], drop_first=True)\n",
        "df"
      ],
      "execution_count": 3,
      "outputs": [
        {
          "output_type": "execute_result",
          "data": {
            "text/html": [
              "<div>\n",
              "<style scoped>\n",
              "    .dataframe tbody tr th:only-of-type {\n",
              "        vertical-align: middle;\n",
              "    }\n",
              "\n",
              "    .dataframe tbody tr th {\n",
              "        vertical-align: top;\n",
              "    }\n",
              "\n",
              "    .dataframe thead th {\n",
              "        text-align: right;\n",
              "    }\n",
              "</style>\n",
              "<table border=\"1\" class=\"dataframe\">\n",
              "  <thead>\n",
              "    <tr style=\"text-align: right;\">\n",
              "      <th></th>\n",
              "      <th>Type</th>\n",
              "      <th>Air temperature [K]</th>\n",
              "      <th>Process temperature [K]</th>\n",
              "      <th>Rotational speed [rpm]</th>\n",
              "      <th>Torque [Nm]</th>\n",
              "      <th>Tool wear [min]</th>\n",
              "      <th>Machine failure</th>\n",
              "    </tr>\n",
              "  </thead>\n",
              "  <tbody>\n",
              "    <tr>\n",
              "      <th>0</th>\n",
              "      <td>2</td>\n",
              "      <td>298.1</td>\n",
              "      <td>308.6</td>\n",
              "      <td>1551</td>\n",
              "      <td>42.8</td>\n",
              "      <td>0</td>\n",
              "      <td>0</td>\n",
              "    </tr>\n",
              "    <tr>\n",
              "      <th>1</th>\n",
              "      <td>1</td>\n",
              "      <td>298.2</td>\n",
              "      <td>308.7</td>\n",
              "      <td>1408</td>\n",
              "      <td>46.3</td>\n",
              "      <td>3</td>\n",
              "      <td>0</td>\n",
              "    </tr>\n",
              "    <tr>\n",
              "      <th>2</th>\n",
              "      <td>1</td>\n",
              "      <td>298.1</td>\n",
              "      <td>308.5</td>\n",
              "      <td>1498</td>\n",
              "      <td>49.4</td>\n",
              "      <td>5</td>\n",
              "      <td>0</td>\n",
              "    </tr>\n",
              "    <tr>\n",
              "      <th>3</th>\n",
              "      <td>1</td>\n",
              "      <td>298.2</td>\n",
              "      <td>308.6</td>\n",
              "      <td>1433</td>\n",
              "      <td>39.5</td>\n",
              "      <td>7</td>\n",
              "      <td>0</td>\n",
              "    </tr>\n",
              "    <tr>\n",
              "      <th>4</th>\n",
              "      <td>1</td>\n",
              "      <td>298.2</td>\n",
              "      <td>308.7</td>\n",
              "      <td>1408</td>\n",
              "      <td>40.0</td>\n",
              "      <td>9</td>\n",
              "      <td>0</td>\n",
              "    </tr>\n",
              "    <tr>\n",
              "      <th>...</th>\n",
              "      <td>...</td>\n",
              "      <td>...</td>\n",
              "      <td>...</td>\n",
              "      <td>...</td>\n",
              "      <td>...</td>\n",
              "      <td>...</td>\n",
              "      <td>...</td>\n",
              "    </tr>\n",
              "    <tr>\n",
              "      <th>9995</th>\n",
              "      <td>2</td>\n",
              "      <td>298.8</td>\n",
              "      <td>308.4</td>\n",
              "      <td>1604</td>\n",
              "      <td>29.5</td>\n",
              "      <td>14</td>\n",
              "      <td>0</td>\n",
              "    </tr>\n",
              "    <tr>\n",
              "      <th>9996</th>\n",
              "      <td>0</td>\n",
              "      <td>298.9</td>\n",
              "      <td>308.4</td>\n",
              "      <td>1632</td>\n",
              "      <td>31.8</td>\n",
              "      <td>17</td>\n",
              "      <td>0</td>\n",
              "    </tr>\n",
              "    <tr>\n",
              "      <th>9997</th>\n",
              "      <td>2</td>\n",
              "      <td>299.0</td>\n",
              "      <td>308.6</td>\n",
              "      <td>1645</td>\n",
              "      <td>33.4</td>\n",
              "      <td>22</td>\n",
              "      <td>0</td>\n",
              "    </tr>\n",
              "    <tr>\n",
              "      <th>9998</th>\n",
              "      <td>0</td>\n",
              "      <td>299.0</td>\n",
              "      <td>308.7</td>\n",
              "      <td>1408</td>\n",
              "      <td>48.5</td>\n",
              "      <td>25</td>\n",
              "      <td>0</td>\n",
              "    </tr>\n",
              "    <tr>\n",
              "      <th>9999</th>\n",
              "      <td>2</td>\n",
              "      <td>299.0</td>\n",
              "      <td>308.7</td>\n",
              "      <td>1500</td>\n",
              "      <td>40.2</td>\n",
              "      <td>30</td>\n",
              "      <td>0</td>\n",
              "    </tr>\n",
              "  </tbody>\n",
              "</table>\n",
              "<p>10000 rows × 7 columns</p>\n",
              "</div>"
            ],
            "text/plain": [
              "      Type  Air temperature [K]  ...  Tool wear [min]  Machine failure\n",
              "0        2                298.1  ...                0                0\n",
              "1        1                298.2  ...                3                0\n",
              "2        1                298.1  ...                5                0\n",
              "3        1                298.2  ...                7                0\n",
              "4        1                298.2  ...                9                0\n",
              "...    ...                  ...  ...              ...              ...\n",
              "9995     2                298.8  ...               14                0\n",
              "9996     0                298.9  ...               17                0\n",
              "9997     2                299.0  ...               22                0\n",
              "9998     0                299.0  ...               25                0\n",
              "9999     2                299.0  ...               30                0\n",
              "\n",
              "[10000 rows x 7 columns]"
            ]
          },
          "metadata": {
            "tags": []
          },
          "execution_count": 3
        }
      ]
    },
    {
      "cell_type": "code",
      "metadata": {
        "colab": {
          "base_uri": "https://localhost:8080/",
          "height": 831
        },
        "id": "Xb4ZloaRruj_",
        "outputId": "48e9fd9a-ad8e-4024-996b-18177c2e3722"
      },
      "source": [
        "from matplotlib.colors import LinearSegmentedColormap\n",
        "\n",
        "corr = df.iloc[:, 1:7].corr()\n",
        "\n",
        "cmap = LinearSegmentedColormap.from_list(\n",
        "    name='test', \n",
        "    colors=['red','white','green'])\n",
        "\n",
        "fig, ax = plt.subplots(figsize=(15,12)) \n",
        "\n",
        "sns.heatmap(corr, \n",
        "        xticklabels=corr.columns,\n",
        "        yticklabels=corr.columns, \n",
        "           cmap=cmap, annot=True,\n",
        "           ax=ax)"
      ],
      "execution_count": 4,
      "outputs": [
        {
          "output_type": "execute_result",
          "data": {
            "text/plain": [
              "<matplotlib.axes._subplots.AxesSubplot at 0x7fb3939a8c10>"
            ]
          },
          "metadata": {
            "tags": []
          },
          "execution_count": 4
        },
        {
          "output_type": "display_data",
          "data": {
            "image/png": "[encoded data removed]",
            "text/plain": [
              "<Figure size 1080x864 with 2 Axes>"
            ]
          },
          "metadata": {
            "tags": [],
            "needs_background": "light"
          }
        }
      ]
    },
    {
      "cell_type": "code",
      "metadata": {
        "id": "WMMf0prUr-d1"
      },
      "source": [
        "df2 = df.drop(['Process temperature [K]', 'Rotational speed [rpm]'], axis=1)"
      ],
      "execution_count": 5,
      "outputs": []
    },
    {
      "cell_type": "code",
      "metadata": {
        "colab": {
          "base_uri": "https://localhost:8080/",
          "height": 720
        },
        "id": "h6rag9z4sCAk",
        "outputId": "460017e8-00c6-495f-cd54-c898bc58a0e6"
      },
      "source": [
        "corr = df2.iloc[:, 0:4].corr()\n",
        "\n",
        "cmap = LinearSegmentedColormap.from_list(\n",
        "    name='test', \n",
        "    colors=['white','green'])\n",
        "\n",
        "fig, ax = plt.subplots(figsize=(15,12)) \n",
        "\n",
        "sns.heatmap(corr, \n",
        "        xticklabels=corr.columns,\n",
        "        yticklabels=corr.columns, \n",
        "           cmap=cmap, annot=True,\n",
        "           ax=ax)"
      ],
      "execution_count": 6,
      "outputs": [
        {
          "output_type": "execute_result",
          "data": {
            "text/plain": [
              "<matplotlib.axes._subplots.AxesSubplot at 0x7fb3924c0490>"
            ]
          },
          "metadata": {
            "tags": []
          },
          "execution_count": 6
        },
        {
          "output_type": "display_data",
          "data": {
            "image/png": "[encoded data removed]",
            "text/plain": [
              "<Figure size 1080x864 with 2 Axes>"
            ]
          },
          "metadata": {
            "tags": [],
            "needs_background": "light"
          }
        }
      ]
    },
    {
      "cell_type": "code",
      "metadata": {
        "colab": {
          "base_uri": "https://localhost:8080/",
          "height": 408
        },
        "id": "7vCbZOZesELY",
        "outputId": "ef46c24a-4902-4022-a353-feada9b259fc"
      },
      "source": [
        "df2\n"
      ],
      "execution_count": 7,
      "outputs": [
        {
          "output_type": "execute_result",
          "data": {
            "text/html": [
              "<div>\n",
              "<style scoped>\n",
              "    .dataframe tbody tr th:only-of-type {\n",
              "        vertical-align: middle;\n",
              "    }\n",
              "\n",
              "    .dataframe tbody tr th {\n",
              "        vertical-align: top;\n",
              "    }\n",
              "\n",
              "    .dataframe thead th {\n",
              "        text-align: right;\n",
              "    }\n",
              "</style>\n",
              "<table border=\"1\" class=\"dataframe\">\n",
              "  <thead>\n",
              "    <tr style=\"text-align: right;\">\n",
              "      <th></th>\n",
              "      <th>Type</th>\n",
              "      <th>Air temperature [K]</th>\n",
              "      <th>Torque [Nm]</th>\n",
              "      <th>Tool wear [min]</th>\n",
              "      <th>Machine failure</th>\n",
              "    </tr>\n",
              "  </thead>\n",
              "  <tbody>\n",
              "    <tr>\n",
              "      <th>0</th>\n",
              "      <td>2</td>\n",
              "      <td>298.1</td>\n",
              "      <td>42.8</td>\n",
              "      <td>0</td>\n",
              "      <td>0</td>\n",
              "    </tr>\n",
              "    <tr>\n",
              "      <th>1</th>\n",
              "      <td>1</td>\n",
              "      <td>298.2</td>\n",
              "      <td>46.3</td>\n",
              "      <td>3</td>\n",
              "      <td>0</td>\n",
              "    </tr>\n",
              "    <tr>\n",
              "      <th>2</th>\n",
              "      <td>1</td>\n",
              "      <td>298.1</td>\n",
              "      <td>49.4</td>\n",
              "      <td>5</td>\n",
              "      <td>0</td>\n",
              "    </tr>\n",
              "    <tr>\n",
              "      <th>3</th>\n",
              "      <td>1</td>\n",
              "      <td>298.2</td>\n",
              "      <td>39.5</td>\n",
              "      <td>7</td>\n",
              "      <td>0</td>\n",
              "    </tr>\n",
              "    <tr>\n",
              "      <th>4</th>\n",
              "      <td>1</td>\n",
              "      <td>298.2</td>\n",
              "      <td>40.0</td>\n",
              "      <td>9</td>\n",
              "      <td>0</td>\n",
              "    </tr>\n",
              "    <tr>\n",
              "      <th>...</th>\n",
              "      <td>...</td>\n",
              "      <td>...</td>\n",
              "      <td>...</td>\n",
              "      <td>...</td>\n",
              "      <td>...</td>\n",
              "    </tr>\n",
              "    <tr>\n",
              "      <th>9995</th>\n",
              "      <td>2</td>\n",
              "      <td>298.8</td>\n",
              "      <td>29.5</td>\n",
              "      <td>14</td>\n",
              "      <td>0</td>\n",
              "    </tr>\n",
              "    <tr>\n",
              "      <th>9996</th>\n",
              "      <td>0</td>\n",
              "      <td>298.9</td>\n",
              "      <td>31.8</td>\n",
              "      <td>17</td>\n",
              "      <td>0</td>\n",
              "    </tr>\n",
              "    <tr>\n",
              "      <th>9997</th>\n",
              "      <td>2</td>\n",
              "      <td>299.0</td>\n",
              "      <td>33.4</td>\n",
              "      <td>22</td>\n",
              "      <td>0</td>\n",
              "    </tr>\n",
              "    <tr>\n",
              "      <th>9998</th>\n",
              "      <td>0</td>\n",
              "      <td>299.0</td>\n",
              "      <td>48.5</td>\n",
              "      <td>25</td>\n",
              "      <td>0</td>\n",
              "    </tr>\n",
              "    <tr>\n",
              "      <th>9999</th>\n",
              "      <td>2</td>\n",
              "      <td>299.0</td>\n",
              "      <td>40.2</td>\n",
              "      <td>30</td>\n",
              "      <td>0</td>\n",
              "    </tr>\n",
              "  </tbody>\n",
              "</table>\n",
              "<p>10000 rows × 5 columns</p>\n",
              "</div>"
            ],
            "text/plain": [
              "      Type  Air temperature [K]  Torque [Nm]  Tool wear [min]  Machine failure\n",
              "0        2                298.1         42.8                0                0\n",
              "1        1                298.2         46.3                3                0\n",
              "2        1                298.1         49.4                5                0\n",
              "3        1                298.2         39.5                7                0\n",
              "4        1                298.2         40.0                9                0\n",
              "...    ...                  ...          ...              ...              ...\n",
              "9995     2                298.8         29.5               14                0\n",
              "9996     0                298.9         31.8               17                0\n",
              "9997     2                299.0         33.4               22                0\n",
              "9998     0                299.0         48.5               25                0\n",
              "9999     2                299.0         40.2               30                0\n",
              "\n",
              "[10000 rows x 5 columns]"
            ]
          },
          "metadata": {
            "tags": []
          },
          "execution_count": 7
        }
      ]
    },
    {
      "cell_type": "code",
      "metadata": {
        "id": "9EQjt6UwsHEd"
      },
      "source": [
        "# Using df2 here gave a less accurate prediction.\n",
        "y = df['Machine failure'].values\n",
        "X = df.drop(['Machine failure'], axis=1).values"
      ],
      "execution_count": 8,
      "outputs": []
    },
    {
      "cell_type": "code",
      "metadata": {
        "colab": {
          "base_uri": "https://localhost:8080/"
        },
        "id": "G1gkLPEosJtf",
        "outputId": "47b5a12d-60f1-4f4c-fa08-7d9d89f97780"
      },
      "source": [
        "from sklearn.model_selection import train_test_split\n",
        "X_train, X_test, y_train, y_test = train_test_split(X, y, test_size=0.20, stratify=y)\n",
        "\n",
        "print(len(df.loc[df['Machine failure']==1,]))\n",
        "y_test.sum()"
      ],
      "execution_count": 9,
      "outputs": [
        {
          "output_type": "stream",
          "text": [
            "339\n"
          ],
          "name": "stdout"
        },
        {
          "output_type": "execute_result",
          "data": {
            "text/plain": [
              "68"
            ]
          },
          "metadata": {
            "tags": []
          },
          "execution_count": 9
        }
      ]
    },
    {
      "cell_type": "code",
      "metadata": {
        "id": "KTdVYOiYsLkG"
      },
      "source": [
        "from sklearn.linear_model import LogisticRegression\n",
        "clf = LogisticRegression(max_iter=10000).fit(X_train, y_train)"
      ],
      "execution_count": 10,
      "outputs": []
    },
    {
      "cell_type": "code",
      "metadata": {
        "id": "eUOnER7nsNbL"
      },
      "source": [
        "y_predict_test = clf.predict(X_test)"
      ],
      "execution_count": 11,
      "outputs": []
    },
    {
      "cell_type": "code",
      "metadata": {
        "colab": {
          "base_uri": "https://localhost:8080/",
          "height": 411
        },
        "id": "T3lRp_pesPOi",
        "outputId": "5a68c5a0-9c15-4560-a386-80c6a38b6a1e"
      },
      "source": [
        "from sklearn.metrics import confusion_matrix, classification_report\n",
        "\n",
        "cm = confusion_matrix(y_test, y_predict_test)\n",
        "sns.heatmap(cm, annot=True, fmt='d')\n",
        "plt.show()\n",
        "print(classification_report(y_test,y_predict_test))"
      ],
      "execution_count": 12,
      "outputs": [
        {
          "output_type": "display_data",
          "data": {
            "image/png": "[encoded data removed]",
            "text/plain": [
              "<Figure size 432x288 with 2 Axes>"
            ]
          },
          "metadata": {
            "tags": [],
            "needs_background": "light"
          }
        },
        {
          "output_type": "stream",
          "text": [
            "              precision    recall  f1-score   support\n",
            "\n",
            "           0       0.97      1.00      0.98      1932\n",
            "           1       0.74      0.21      0.32        68\n",
            "\n",
            "    accuracy                           0.97      2000\n",
            "   macro avg       0.85      0.60      0.65      2000\n",
            "weighted avg       0.96      0.97      0.96      2000\n",
            "\n"
          ],
          "name": "stdout"
        }
      ]
    },
    {
      "cell_type": "code",
      "metadata": {
        "id": "4FiRSjP2sREO"
      },
      "source": [
        "# Using df2 here gave a less accurate prediction.\n",
        "from sklearn.ensemble import RandomForestClassifier\n",
        "clf = RandomForestClassifier().fit(X_train, y_train)"
      ],
      "execution_count": 13,
      "outputs": []
    },
    {
      "cell_type": "code",
      "metadata": {
        "id": "AxsOZpOIsTHt"
      },
      "source": [
        "y_predict_test = clf.predict(X_test)"
      ],
      "execution_count": 14,
      "outputs": []
    },
    {
      "cell_type": "code",
      "metadata": {
        "colab": {
          "base_uri": "https://localhost:8080/",
          "height": 411
        },
        "id": "jYY7t41HsU0x",
        "outputId": "c210719c-e2b8-4aa3-9f26-321c0579677a"
      },
      "source": [
        "cm = confusion_matrix(y_test, y_predict_test)\n",
        "sns.heatmap(cm, annot=True, fmt='d')\n",
        "plt.show()\n",
        "print(classification_report(y_test,y_predict_test))"
      ],
      "execution_count": 15,
      "outputs": [
        {
          "output_type": "display_data",
          "data": {
            "image/png": "[encoded data removed]",
            "text/plain": [
              "<Figure size 432x288 with 2 Axes>"
            ]
          },
          "metadata": {
            "tags": [],
            "needs_background": "light"
          }
        },
        {
          "output_type": "stream",
          "text": [
            "              precision    recall  f1-score   support\n",
            "\n",
            "           0       0.98      1.00      0.99      1932\n",
            "           1       0.95      0.54      0.69        68\n",
            "\n",
            "    accuracy                           0.98      2000\n",
            "   macro avg       0.97      0.77      0.84      2000\n",
            "weighted avg       0.98      0.98      0.98      2000\n",
            "\n"
          ],
          "name": "stdout"
        }
      ]
    },
    {
      "cell_type": "code",
      "metadata": {
        "colab": {
          "base_uri": "https://localhost:8080/"
        },
        "id": "ixrPN7TPsWb9",
        "outputId": "a5d27462-ca60-4297-f263-1ceb9a554fb9"
      },
      "source": [
        "from tensorflow.python.client import device_lib\n",
        "import tensorflow as tf\n",
        "tf.debugging.set_log_device_placement(True)\n",
        "print(device_lib.list_local_devices())\n",
        "print(\"Num GPUs Available: \", len(tf.config.list_physical_devices('GPU')))"
      ],
      "execution_count": 16,
      "outputs": [
        {
          "output_type": "stream",
          "text": [
            "[name: \"/device:CPU:0\"\n",
            "device_type: \"CPU\"\n",
            "memory_limit: 268435456\n",
            "locality {\n",
            "}\n",
            "incarnation: 12661309355186082226\n",
            "]\n",
            "Num GPUs Available:  0\n"
          ],
          "name": "stdout"
        }
      ]
    },
    {
      "cell_type": "code",
      "metadata": {
        "colab": {
          "base_uri": "https://localhost:8080/"
        },
        "id": "FCLSbICXsacV",
        "outputId": "e44b6423-0211-488b-e27d-2dd2190cc8a0"
      },
      "source": [
        "from sklearn.preprocessing import StandardScaler\n",
        "scaler = StandardScaler().fit(X_train)\n",
        "X_train_scaled = scaler.transform(X_train)\n",
        "X_test_scaled = scaler.transform(X_test)\n",
        "X_train_scaled"
      ],
      "execution_count": 17,
      "outputs": [
        {
          "output_type": "execute_result",
          "data": {
            "text/plain": [
              "array([[-2.0000311 ,  0.15253698,  1.28492423, -0.83216321,  0.908285  ,\n",
              "         1.34202592],\n",
              "       [-0.33749486,  0.75351989,  0.27319942, -1.17396867,  0.66654605,\n",
              "        -1.32151275],\n",
              "       [ 1.32504138,  0.85368371,  0.40809606, -0.18777587,  0.45502447,\n",
              "         0.58996794],\n",
              "       ...,\n",
              "       [-0.33749486, -0.44844594, -1.14321531,  0.11480601, -0.6328008 ,\n",
              "        -1.2275055 ],\n",
              "       [-0.33749486,  1.10409326,  1.01513095,  0.05316896, -0.76374273,\n",
              "        -0.4284439 ],\n",
              "       [-0.33749486,  0.55319225,  1.15002759, -0.73130259,  0.63632868,\n",
              "         0.41762132]])"
            ]
          },
          "metadata": {
            "tags": []
          },
          "execution_count": 17
        }
      ]
    },
    {
      "cell_type": "code",
      "metadata": {
        "colab": {
          "base_uri": "https://localhost:8080/"
        },
        "id": "Q7cFr2fVsdJ0",
        "outputId": "17d8535c-8c0c-4a39-9608-0541fb40b72c"
      },
      "source": [
        "\n",
        "import tensorflow as tf\n",
        "from tensorflow.python.keras import backend as K\n",
        "from keras import optimizers\n",
        "from keras import Model\n",
        "from keras.layers import Input, Dense\n",
        "from keras.models import load_model\n",
        "tf.debugging.set_log_device_placement(False)\n",
        "try:\n",
        "    model = load_model('./model.h5')\n",
        "\n",
        "#sess = tf.compat.v1.Session()\n",
        "#K.set_session(sess)\n",
        "\n",
        "except:\n",
        "    layer1 = Input(X_train.shape[1])\n",
        "    layer2 = Dense(6, activation='relu')(layer1)\n",
        "    layer3 = Dense(4, activation='relu')(layer2)\n",
        "    layer4 = Dense(4, activation='relu')(layer3)\n",
        "    output = Dense(1, activation='sigmoid')(layer4)\n",
        "\n",
        "    model = Model(inputs=layer1, outputs=output)\n",
        "    model.summary()\n",
        "\n",
        "\n",
        "    opt = tf.keras.optimizers.Adam(learning_rate=0.005, beta_1=0.9, beta_2=0.999, epsilon=1e-07, amsgrad=False,name='Adam')\n",
        "\n",
        "\n",
        "    model.compile(optimizer = opt, loss = 'binary_crossentropy', metrics = ['accuracy'])\n",
        "\n",
        "    model.fit(X_train_scaled, y_train, batch_size=10, epochs=200)\n",
        "    model.save('./model.h5')\n",
        "    dot_img_file = './model_1.png'\n",
        "    tf.keras.utils.plot_model(model, to_file=dot_img_file, show_shapes=True)"
      ],
      "execution_count": 18,
      "outputs": [
        {
          "output_type": "stream",
          "text": [
            "Model: \"model\"\n",
            "_________________________________________________________________\n",
            "Layer (type)                 Output Shape              Param #   \n",
            "=================================================================\n",
            "input_1 (InputLayer)         [(None, 6)]               0         \n",
            "_________________________________________________________________\n",
            "dense (Dense)                (None, 6)                 42        \n",
            "_________________________________________________________________\n",
            "dense_1 (Dense)              (None, 4)                 28        \n",
            "_________________________________________________________________\n",
            "dense_2 (Dense)              (None, 4)                 20        \n",
            "_________________________________________________________________\n",
            "dense_3 (Dense)              (None, 1)                 5         \n",
            "=================================================================\n",
            "Total params: 95\n",
            "Trainable params: 95\n",
            "Non-trainable params: 0\n",
            "_________________________________________________________________\n",
            "Epoch 1/200\n",
            "800/800 [==============================] - 14s 1ms/step - loss: 0.4436 - accuracy: 0.9216\n",
            "Epoch 2/200\n",
            "800/800 [==============================] - 1s 1ms/step - loss: 0.1676 - accuracy: 0.9642\n",
            "Epoch 3/200\n",
            "800/800 [==============================] - 1s 1ms/step - loss: 0.1523 - accuracy: 0.9651\n",
            "Epoch 4/200\n",
            "800/800 [==============================] - 1s 1ms/step - loss: 0.1393 - accuracy: 0.9688\n",
            "Epoch 5/200\n",
            "800/800 [==============================] - 1s 1ms/step - loss: 0.1530 - accuracy: 0.9646\n",
            "Epoch 6/200\n",
            "800/800 [==============================] - 1s 1ms/step - loss: 0.1389 - accuracy: 0.9688\n",
            "Epoch 7/200\n",
            "800/800 [==============================] - 1s 1ms/step - loss: 0.1429 - accuracy: 0.9677\n",
            "Epoch 8/200\n",
            "800/800 [==============================] - 1s 1ms/step - loss: 0.1651 - accuracy: 0.9610\n",
            "Epoch 9/200\n",
            "800/800 [==============================] - 1s 1ms/step - loss: 0.1478 - accuracy: 0.9662\n",
            "Epoch 10/200\n",
            "800/800 [==============================] - 1s 1ms/step - loss: 0.1457 - accuracy: 0.9668\n",
            "Epoch 11/200\n",
            "800/800 [==============================] - 1s 1ms/step - loss: 0.1477 - accuracy: 0.9662\n",
            "Epoch 12/200\n",
            "800/800 [==============================] - 1s 1ms/step - loss: 0.1567 - accuracy: 0.9635\n",
            "Epoch 13/200\n",
            "800/800 [==============================] - 1s 1ms/step - loss: 0.1533 - accuracy: 0.9646\n",
            "Epoch 14/200\n",
            "800/800 [==============================] - 1s 1ms/step - loss: 0.1478 - accuracy: 0.9662\n",
            "Epoch 15/200\n",
            "800/800 [==============================] - 1s 1ms/step - loss: 0.1501 - accuracy: 0.9655\n",
            "Epoch 16/200\n",
            "800/800 [==============================] - 1s 1ms/step - loss: 0.1588 - accuracy: 0.9629\n",
            "Epoch 17/200\n",
            "800/800 [==============================] - 1s 1ms/step - loss: 0.1468 - accuracy: 0.9665\n",
            "Epoch 18/200\n",
            "800/800 [==============================] - 1s 1ms/step - loss: 0.1490 - accuracy: 0.9659\n",
            "Epoch 19/200\n",
            "800/800 [==============================] - 1s 1ms/step - loss: 0.1489 - accuracy: 0.9658\n",
            "Epoch 20/200\n",
            "800/800 [==============================] - 1s 1ms/step - loss: 0.1454 - accuracy: 0.9669\n",
            "Epoch 21/200\n",
            "800/800 [==============================] - 1s 1ms/step - loss: 0.1468 - accuracy: 0.9665\n",
            "Epoch 22/200\n",
            "800/800 [==============================] - 1s 1ms/step - loss: 0.1513 - accuracy: 0.9652\n",
            "Epoch 23/200\n",
            "800/800 [==============================] - 1s 1ms/step - loss: 0.1511 - accuracy: 0.9652\n",
            "Epoch 24/200\n",
            "800/800 [==============================] - 1s 1ms/step - loss: 0.1493 - accuracy: 0.9658\n",
            "Epoch 25/200\n",
            "800/800 [==============================] - 1s 1ms/step - loss: 0.1461 - accuracy: 0.9667\n",
            "Epoch 26/200\n",
            "800/800 [==============================] - 1s 1ms/step - loss: 0.1427 - accuracy: 0.9677\n",
            "Epoch 27/200\n",
            "800/800 [==============================] - 1s 1ms/step - loss: 0.1521 - accuracy: 0.9649\n",
            "Epoch 28/200\n",
            "800/800 [==============================] - 1s 1ms/step - loss: 0.1424 - accuracy: 0.9678\n",
            "Epoch 29/200\n",
            "800/800 [==============================] - 1s 1ms/step - loss: 0.1465 - accuracy: 0.9666\n",
            "Epoch 30/200\n",
            "800/800 [==============================] - 1s 1ms/step - loss: 0.1463 - accuracy: 0.9666\n",
            "Epoch 31/200\n",
            "800/800 [==============================] - 1s 1ms/step - loss: 0.1465 - accuracy: 0.9666\n",
            "Epoch 32/200\n",
            "800/800 [==============================] - 1s 1ms/step - loss: 0.1426 - accuracy: 0.9677\n",
            "Epoch 33/200\n",
            "800/800 [==============================] - 1s 1ms/step - loss: 0.1505 - accuracy: 0.9654\n",
            "Epoch 34/200\n",
            "800/800 [==============================] - 1s 1ms/step - loss: 0.1540 - accuracy: 0.9644\n",
            "Epoch 35/200\n",
            "800/800 [==============================] - 1s 1ms/step - loss: 0.1500 - accuracy: 0.9655\n",
            "Epoch 36/200\n",
            "800/800 [==============================] - 1s 1ms/step - loss: 0.1365 - accuracy: 0.9695\n",
            "Epoch 37/200\n",
            "800/800 [==============================] - 1s 1ms/step - loss: 0.1414 - accuracy: 0.9681\n",
            "Epoch 38/200\n",
            "800/800 [==============================] - 1s 1ms/step - loss: 0.1495 - accuracy: 0.9657\n",
            "Epoch 39/200\n",
            "800/800 [==============================] - 1s 1ms/step - loss: 0.1460 - accuracy: 0.9667\n",
            "Epoch 40/200\n",
            "800/800 [==============================] - 1s 1ms/step - loss: 0.1415 - accuracy: 0.9681\n",
            "Epoch 41/200\n",
            "800/800 [==============================] - 1s 1ms/step - loss: 0.1407 - accuracy: 0.9683\n",
            "Epoch 42/200\n",
            "800/800 [==============================] - 1s 1ms/step - loss: 0.1467 - accuracy: 0.9666\n",
            "Epoch 43/200\n",
            "800/800 [==============================] - 1s 1ms/step - loss: 0.1519 - accuracy: 0.9650\n",
            "Epoch 44/200\n",
            "800/800 [==============================] - 1s 1ms/step - loss: 0.1552 - accuracy: 0.9640\n",
            "Epoch 45/200\n",
            "800/800 [==============================] - 1s 1ms/step - loss: 0.1453 - accuracy: 0.9669\n",
            "Epoch 46/200\n",
            "800/800 [==============================] - 1s 1ms/step - loss: 0.1489 - accuracy: 0.9659\n",
            "Epoch 47/200\n",
            "800/800 [==============================] - 1s 1ms/step - loss: 0.1407 - accuracy: 0.9683\n",
            "Epoch 48/200\n",
            "800/800 [==============================] - 1s 1ms/step - loss: 0.1452 - accuracy: 0.9670\n",
            "Epoch 49/200\n",
            "800/800 [==============================] - 1s 1ms/step - loss: 0.1450 - accuracy: 0.9670\n",
            "Epoch 50/200\n",
            "800/800 [==============================] - 1s 1ms/step - loss: 0.1520 - accuracy: 0.9650\n",
            "Epoch 51/200\n",
            "800/800 [==============================] - 1s 1ms/step - loss: 0.1484 - accuracy: 0.9660\n",
            "Epoch 52/200\n",
            "800/800 [==============================] - 1s 1ms/step - loss: 0.1499 - accuracy: 0.9656\n",
            "Epoch 53/200\n",
            "800/800 [==============================] - 1s 1ms/step - loss: 0.1484 - accuracy: 0.9660\n",
            "Epoch 54/200\n",
            "800/800 [==============================] - 1s 1ms/step - loss: 0.1484 - accuracy: 0.9660\n",
            "Epoch 55/200\n",
            "800/800 [==============================] - 1s 1ms/step - loss: 0.1606 - accuracy: 0.9624\n",
            "Epoch 56/200\n",
            "800/800 [==============================] - 1s 1ms/step - loss: 0.1525 - accuracy: 0.9648\n",
            "Epoch 57/200\n",
            "800/800 [==============================] - 1s 1ms/step - loss: 0.1497 - accuracy: 0.9657\n",
            "Epoch 58/200\n",
            "800/800 [==============================] - 1s 1ms/step - loss: 0.1516 - accuracy: 0.9651\n",
            "Epoch 59/200\n",
            "800/800 [==============================] - 1s 1ms/step - loss: 0.1408 - accuracy: 0.9683\n",
            "Epoch 60/200\n",
            "800/800 [==============================] - 1s 1ms/step - loss: 0.1480 - accuracy: 0.9662\n",
            "Epoch 61/200\n",
            "800/800 [==============================] - 1s 1ms/step - loss: 0.1487 - accuracy: 0.9659\n",
            "Epoch 62/200\n",
            "800/800 [==============================] - 1s 1ms/step - loss: 0.1553 - accuracy: 0.9640\n",
            "Epoch 63/200\n",
            "800/800 [==============================] - 1s 1ms/step - loss: 0.1394 - accuracy: 0.9687\n",
            "Epoch 64/200\n",
            "800/800 [==============================] - 1s 1ms/step - loss: 0.1488 - accuracy: 0.9659\n",
            "Epoch 65/200\n",
            "800/800 [==============================] - 1s 1ms/step - loss: 0.1350 - accuracy: 0.9699\n",
            "Epoch 66/200\n",
            "800/800 [==============================] - 1s 1ms/step - loss: 0.1452 - accuracy: 0.9670\n",
            "Epoch 67/200\n",
            "800/800 [==============================] - 1s 1ms/step - loss: 0.1551 - accuracy: 0.9640\n",
            "Epoch 68/200\n",
            "800/800 [==============================] - 1s 1ms/step - loss: 0.1454 - accuracy: 0.9669\n",
            "Epoch 69/200\n",
            "800/800 [==============================] - 1s 1ms/step - loss: 0.1419 - accuracy: 0.9680\n",
            "Epoch 70/200\n",
            "800/800 [==============================] - 1s 1ms/step - loss: 0.1461 - accuracy: 0.9667\n",
            "Epoch 71/200\n",
            "800/800 [==============================] - 1s 1ms/step - loss: 0.1381 - accuracy: 0.9691\n",
            "Epoch 72/200\n",
            "800/800 [==============================] - 1s 1ms/step - loss: 0.1563 - accuracy: 0.9636\n",
            "Epoch 73/200\n",
            "800/800 [==============================] - 1s 1ms/step - loss: 0.1542 - accuracy: 0.9643\n",
            "Epoch 74/200\n",
            "800/800 [==============================] - 1s 1ms/step - loss: 0.1421 - accuracy: 0.9679\n",
            "Epoch 75/200\n",
            "800/800 [==============================] - 1s 1ms/step - loss: 0.1429 - accuracy: 0.9677\n",
            "Epoch 76/200\n",
            "800/800 [==============================] - 1s 1ms/step - loss: 0.1537 - accuracy: 0.9644\n",
            "Epoch 77/200\n",
            "800/800 [==============================] - 1s 1ms/step - loss: 0.1501 - accuracy: 0.9655\n",
            "Epoch 78/200\n",
            "800/800 [==============================] - 1s 1ms/step - loss: 0.1486 - accuracy: 0.9660\n",
            "Epoch 79/200\n",
            "800/800 [==============================] - 1s 1ms/step - loss: 0.1441 - accuracy: 0.9673\n",
            "Epoch 80/200\n",
            "800/800 [==============================] - 1s 1ms/step - loss: 0.1402 - accuracy: 0.9685\n",
            "Epoch 81/200\n",
            "800/800 [==============================] - 1s 1ms/step - loss: 0.1314 - accuracy: 0.9711\n",
            "Epoch 82/200\n",
            "800/800 [==============================] - 1s 1ms/step - loss: 0.1577 - accuracy: 0.9632\n",
            "Epoch 83/200\n",
            "800/800 [==============================] - 1s 1ms/step - loss: 0.1519 - accuracy: 0.9650\n",
            "Epoch 84/200\n",
            "800/800 [==============================] - 1s 1ms/step - loss: 0.1516 - accuracy: 0.9651\n",
            "Epoch 85/200\n",
            "800/800 [==============================] - 1s 1ms/step - loss: 0.1524 - accuracy: 0.9648\n",
            "Epoch 86/200\n",
            "800/800 [==============================] - 1s 1ms/step - loss: 0.1364 - accuracy: 0.9696\n",
            "Epoch 87/200\n",
            "800/800 [==============================] - 1s 1ms/step - loss: 0.1434 - accuracy: 0.9675\n",
            "Epoch 88/200\n",
            "800/800 [==============================] - 1s 1ms/step - loss: 0.1563 - accuracy: 0.9637\n",
            "Epoch 89/200\n",
            "800/800 [==============================] - 1s 1ms/step - loss: 0.1580 - accuracy: 0.9632\n",
            "Epoch 90/200\n",
            "800/800 [==============================] - 1s 1ms/step - loss: 0.1464 - accuracy: 0.9666\n",
            "Epoch 91/200\n",
            "800/800 [==============================] - 1s 1ms/step - loss: 0.1329 - accuracy: 0.9706\n",
            "Epoch 92/200\n",
            "800/800 [==============================] - 1s 1ms/step - loss: 0.1511 - accuracy: 0.9652\n",
            "Epoch 93/200\n",
            "800/800 [==============================] - 1s 1ms/step - loss: 0.1522 - accuracy: 0.9649\n",
            "Epoch 94/200\n",
            "800/800 [==============================] - 1s 1ms/step - loss: 0.1490 - accuracy: 0.9658\n",
            "Epoch 95/200\n",
            "800/800 [==============================] - 1s 1ms/step - loss: 0.1501 - accuracy: 0.9655\n",
            "Epoch 96/200\n",
            "800/800 [==============================] - 1s 1ms/step - loss: 0.1432 - accuracy: 0.9676\n",
            "Epoch 97/200\n",
            "800/800 [==============================] - 1s 1ms/step - loss: 0.1465 - accuracy: 0.9666\n",
            "Epoch 98/200\n",
            "800/800 [==============================] - 1s 1ms/step - loss: 0.1418 - accuracy: 0.9680\n",
            "Epoch 99/200\n",
            "800/800 [==============================] - 1s 1ms/step - loss: 0.1550 - accuracy: 0.9640\n",
            "Epoch 100/200\n",
            "800/800 [==============================] - 1s 1ms/step - loss: 0.1498 - accuracy: 0.9656\n",
            "Epoch 101/200\n",
            "800/800 [==============================] - 1s 1ms/step - loss: 0.1441 - accuracy: 0.9673\n",
            "Epoch 102/200\n",
            "800/800 [==============================] - 1s 1ms/step - loss: 0.1562 - accuracy: 0.9637\n",
            "Epoch 103/200\n",
            "800/800 [==============================] - 1s 1ms/step - loss: 0.1565 - accuracy: 0.9637\n",
            "Epoch 104/200\n",
            "800/800 [==============================] - 1s 1ms/step - loss: 0.1355 - accuracy: 0.9698\n",
            "Epoch 105/200\n",
            "800/800 [==============================] - 1s 1ms/step - loss: 0.1536 - accuracy: 0.9645\n",
            "Epoch 106/200\n",
            "800/800 [==============================] - 1s 1ms/step - loss: 0.1507 - accuracy: 0.9653\n",
            "Epoch 107/200\n",
            "800/800 [==============================] - 1s 1ms/step - loss: 0.1588 - accuracy: 0.9629\n",
            "Epoch 108/200\n",
            "800/800 [==============================] - 1s 1ms/step - loss: 0.1431 - accuracy: 0.9676\n",
            "Epoch 109/200\n",
            "800/800 [==============================] - 1s 1ms/step - loss: 0.1424 - accuracy: 0.9678\n",
            "Epoch 110/200\n",
            "800/800 [==============================] - 1s 1ms/step - loss: 0.1530 - accuracy: 0.9646\n",
            "Epoch 111/200\n",
            "800/800 [==============================] - 1s 1ms/step - loss: 0.1403 - accuracy: 0.9684\n",
            "Epoch 112/200\n",
            "800/800 [==============================] - 1s 1ms/step - loss: 0.1510 - accuracy: 0.9653\n",
            "Epoch 113/200\n",
            "800/800 [==============================] - 1s 1ms/step - loss: 0.1528 - accuracy: 0.9647\n",
            "Epoch 114/200\n",
            "800/800 [==============================] - 1s 1ms/step - loss: 0.1444 - accuracy: 0.9672\n",
            "Epoch 115/200\n",
            "800/800 [==============================] - 1s 1ms/step - loss: 0.1489 - accuracy: 0.9659\n",
            "Epoch 116/200\n",
            "800/800 [==============================] - 1s 1ms/step - loss: 0.1349 - accuracy: 0.9700\n",
            "Epoch 117/200\n",
            "800/800 [==============================] - 1s 1ms/step - loss: 0.1397 - accuracy: 0.9687\n",
            "Epoch 118/200\n",
            "800/800 [==============================] - 1s 1ms/step - loss: 0.1399 - accuracy: 0.9686\n",
            "Epoch 119/200\n",
            "800/800 [==============================] - 1s 1ms/step - loss: 0.1505 - accuracy: 0.9654\n",
            "Epoch 120/200\n",
            "800/800 [==============================] - 1s 1ms/step - loss: 0.1522 - accuracy: 0.9649\n",
            "Epoch 121/200\n",
            "800/800 [==============================] - 1s 1ms/step - loss: 0.1482 - accuracy: 0.9661\n",
            "Epoch 122/200\n",
            "800/800 [==============================] - 1s 1ms/step - loss: 0.1514 - accuracy: 0.9651\n",
            "Epoch 123/200\n",
            "800/800 [==============================] - 1s 1ms/step - loss: 0.1405 - accuracy: 0.9684\n",
            "Epoch 124/200\n",
            "800/800 [==============================] - 1s 1ms/step - loss: 0.1446 - accuracy: 0.9672\n",
            "Epoch 125/200\n",
            "800/800 [==============================] - 1s 1ms/step - loss: 0.1510 - accuracy: 0.9652\n",
            "Epoch 126/200\n",
            "800/800 [==============================] - 1s 1ms/step - loss: 0.1413 - accuracy: 0.9681\n",
            "Epoch 127/200\n",
            "800/800 [==============================] - 1s 1ms/step - loss: 0.1404 - accuracy: 0.9684\n",
            "Epoch 128/200\n",
            "800/800 [==============================] - 1s 1ms/step - loss: 0.1503 - accuracy: 0.9655\n",
            "Epoch 129/200\n",
            "800/800 [==============================] - 1s 1ms/step - loss: 0.1483 - accuracy: 0.9660\n",
            "Epoch 130/200\n",
            "800/800 [==============================] - 1s 1ms/step - loss: 0.1468 - accuracy: 0.9665\n",
            "Epoch 131/200\n",
            "800/800 [==============================] - 1s 1ms/step - loss: 0.1537 - accuracy: 0.9644\n",
            "Epoch 132/200\n",
            "800/800 [==============================] - 1s 1ms/step - loss: 0.1454 - accuracy: 0.9669\n",
            "Epoch 133/200\n",
            "800/800 [==============================] - 1s 1ms/step - loss: 0.1527 - accuracy: 0.9647\n",
            "Epoch 134/200\n",
            "800/800 [==============================] - 1s 1ms/step - loss: 0.1431 - accuracy: 0.9676\n",
            "Epoch 135/200\n",
            "800/800 [==============================] - 1s 1ms/step - loss: 0.1556 - accuracy: 0.9639\n",
            "Epoch 136/200\n",
            "800/800 [==============================] - 1s 1ms/step - loss: 0.1460 - accuracy: 0.9667\n",
            "Epoch 137/200\n",
            "800/800 [==============================] - 1s 1ms/step - loss: 0.1452 - accuracy: 0.9670\n",
            "Epoch 138/200\n",
            "800/800 [==============================] - 1s 1ms/step - loss: 0.1487 - accuracy: 0.9659\n",
            "Epoch 139/200\n",
            "800/800 [==============================] - 1s 1ms/step - loss: 0.1537 - accuracy: 0.9644\n",
            "Epoch 140/200\n",
            "800/800 [==============================] - 1s 1ms/step - loss: 0.1387 - accuracy: 0.9689\n",
            "Epoch 141/200\n",
            "800/800 [==============================] - 1s 1ms/step - loss: 0.1556 - accuracy: 0.9638\n",
            "Epoch 142/200\n",
            "800/800 [==============================] - 1s 1ms/step - loss: 0.1397 - accuracy: 0.9686\n",
            "Epoch 143/200\n",
            "800/800 [==============================] - 1s 1ms/step - loss: 0.1453 - accuracy: 0.9670\n",
            "Epoch 144/200\n",
            "800/800 [==============================] - 1s 1ms/step - loss: 0.1560 - accuracy: 0.9637\n",
            "Epoch 145/200\n",
            "800/800 [==============================] - 1s 1ms/step - loss: 0.1481 - accuracy: 0.9661\n",
            "Epoch 146/200\n",
            "800/800 [==============================] - 1s 1ms/step - loss: 0.1570 - accuracy: 0.9634\n",
            "Epoch 147/200\n",
            "800/800 [==============================] - 1s 1ms/step - loss: 0.1418 - accuracy: 0.9680\n",
            "Epoch 148/200\n",
            "800/800 [==============================] - 1s 1ms/step - loss: 0.1461 - accuracy: 0.9667\n",
            "Epoch 149/200\n",
            "800/800 [==============================] - 1s 1ms/step - loss: 0.1491 - accuracy: 0.9658\n",
            "Epoch 150/200\n",
            "800/800 [==============================] - 1s 1ms/step - loss: 0.1425 - accuracy: 0.9677\n",
            "Epoch 151/200\n",
            "800/800 [==============================] - 1s 1ms/step - loss: 0.1530 - accuracy: 0.9647\n",
            "Epoch 152/200\n",
            "800/800 [==============================] - 1s 1ms/step - loss: 0.1450 - accuracy: 0.9670\n",
            "Epoch 153/200\n",
            "800/800 [==============================] - 1s 1ms/step - loss: 0.1409 - accuracy: 0.9683\n",
            "Epoch 154/200\n",
            "800/800 [==============================] - 1s 1ms/step - loss: 0.1517 - accuracy: 0.9650\n",
            "Epoch 155/200\n",
            "800/800 [==============================] - 1s 1ms/step - loss: 0.1361 - accuracy: 0.9697\n",
            "Epoch 156/200\n",
            "800/800 [==============================] - 1s 1ms/step - loss: 0.1435 - accuracy: 0.9675\n",
            "Epoch 157/200\n",
            "800/800 [==============================] - 1s 1ms/step - loss: 0.1530 - accuracy: 0.9646\n",
            "Epoch 158/200\n",
            "800/800 [==============================] - 1s 1ms/step - loss: 0.1430 - accuracy: 0.9676\n",
            "Epoch 159/200\n",
            "800/800 [==============================] - 1s 1ms/step - loss: 0.1651 - accuracy: 0.9610\n",
            "Epoch 160/200\n",
            "800/800 [==============================] - 1s 1ms/step - loss: 0.1557 - accuracy: 0.9639\n",
            "Epoch 161/200\n",
            "800/800 [==============================] - 1s 1ms/step - loss: 0.1512 - accuracy: 0.9652\n",
            "Epoch 162/200\n",
            "800/800 [==============================] - 1s 1ms/step - loss: 0.1505 - accuracy: 0.9654\n",
            "Epoch 163/200\n",
            "800/800 [==============================] - 1s 1ms/step - loss: 0.1578 - accuracy: 0.9632\n",
            "Epoch 164/200\n",
            "800/800 [==============================] - 1s 1ms/step - loss: 0.1502 - accuracy: 0.9655\n",
            "Epoch 165/200\n",
            "800/800 [==============================] - 1s 1ms/step - loss: 0.1507 - accuracy: 0.9653\n",
            "Epoch 166/200\n",
            "800/800 [==============================] - 1s 1ms/step - loss: 0.1532 - accuracy: 0.9646\n",
            "Epoch 167/200\n",
            "800/800 [==============================] - 1s 1ms/step - loss: 0.1460 - accuracy: 0.9667\n",
            "Epoch 168/200\n",
            "800/800 [==============================] - 1s 1ms/step - loss: 0.1464 - accuracy: 0.9667\n",
            "Epoch 169/200\n",
            "800/800 [==============================] - 1s 1ms/step - loss: 0.1523 - accuracy: 0.9649\n",
            "Epoch 170/200\n",
            "800/800 [==============================] - 1s 1ms/step - loss: 0.1622 - accuracy: 0.9619\n",
            "Epoch 171/200\n",
            "800/800 [==============================] - 1s 1ms/step - loss: 0.1513 - accuracy: 0.9652\n",
            "Epoch 172/200\n",
            "800/800 [==============================] - 1s 1ms/step - loss: 0.1474 - accuracy: 0.9663\n",
            "Epoch 173/200\n",
            "800/800 [==============================] - 1s 1ms/step - loss: 0.1485 - accuracy: 0.9660\n",
            "Epoch 174/200\n",
            "800/800 [==============================] - 1s 1ms/step - loss: 0.1469 - accuracy: 0.9665\n",
            "Epoch 175/200\n",
            "800/800 [==============================] - 1s 1ms/step - loss: 0.1506 - accuracy: 0.9654\n",
            "Epoch 176/200\n",
            "800/800 [==============================] - 1s 1ms/step - loss: 0.1390 - accuracy: 0.9688\n",
            "Epoch 177/200\n",
            "800/800 [==============================] - 1s 1ms/step - loss: 0.1399 - accuracy: 0.9686\n",
            "Epoch 178/200\n",
            "800/800 [==============================] - 1s 1ms/step - loss: 0.1450 - accuracy: 0.9671\n",
            "Epoch 179/200\n",
            "800/800 [==============================] - 1s 1ms/step - loss: 0.1469 - accuracy: 0.9665\n",
            "Epoch 180/200\n",
            "800/800 [==============================] - 1s 1ms/step - loss: 0.1489 - accuracy: 0.9659\n",
            "Epoch 181/200\n",
            "800/800 [==============================] - 1s 1ms/step - loss: 0.1571 - accuracy: 0.9634\n",
            "Epoch 182/200\n",
            "800/800 [==============================] - 1s 1ms/step - loss: 0.1489 - accuracy: 0.9659\n",
            "Epoch 183/200\n",
            "800/800 [==============================] - 1s 1ms/step - loss: 0.1392 - accuracy: 0.9687\n",
            "Epoch 184/200\n",
            "800/800 [==============================] - 1s 1ms/step - loss: 0.1480 - accuracy: 0.9662\n",
            "Epoch 185/200\n",
            "800/800 [==============================] - 1s 1ms/step - loss: 0.1527 - accuracy: 0.9647\n",
            "Epoch 186/200\n",
            "800/800 [==============================] - 1s 1ms/step - loss: 0.1454 - accuracy: 0.9669\n",
            "Epoch 187/200\n",
            "800/800 [==============================] - 1s 1ms/step - loss: 0.1548 - accuracy: 0.9641\n",
            "Epoch 188/200\n",
            "800/800 [==============================] - 1s 1ms/step - loss: 0.1339 - accuracy: 0.9703\n",
            "Epoch 189/200\n",
            "800/800 [==============================] - 1s 1ms/step - loss: 0.1430 - accuracy: 0.9676\n",
            "Epoch 190/200\n",
            "800/800 [==============================] - 1s 1ms/step - loss: 0.1465 - accuracy: 0.9666\n",
            "Epoch 191/200\n",
            "800/800 [==============================] - 1s 1ms/step - loss: 0.1417 - accuracy: 0.9680\n",
            "Epoch 192/200\n",
            "800/800 [==============================] - 1s 1ms/step - loss: 0.1331 - accuracy: 0.9706\n",
            "Epoch 193/200\n",
            "800/800 [==============================] - 1s 1ms/step - loss: 0.1356 - accuracy: 0.9699\n",
            "Epoch 194/200\n",
            "800/800 [==============================] - 1s 1ms/step - loss: 0.1473 - accuracy: 0.9663\n",
            "Epoch 195/200\n",
            "800/800 [==============================] - 1s 1ms/step - loss: 0.1469 - accuracy: 0.9665\n",
            "Epoch 196/200\n",
            "800/800 [==============================] - 1s 1ms/step - loss: 0.1454 - accuracy: 0.9669\n",
            "Epoch 197/200\n",
            "800/800 [==============================] - 1s 1ms/step - loss: 0.1557 - accuracy: 0.9639\n",
            "Epoch 198/200\n",
            "800/800 [==============================] - 1s 1ms/step - loss: 0.1562 - accuracy: 0.9637\n",
            "Epoch 199/200\n",
            "800/800 [==============================] - 1s 1ms/step - loss: 0.1525 - accuracy: 0.9648\n",
            "Epoch 200/200\n",
            "800/800 [==============================] - 1s 1ms/step - loss: 0.1446 - accuracy: 0.9672\n"
          ],
          "name": "stdout"
        }
      ]
    },
    {
      "cell_type": "code",
      "metadata": {
        "colab": {
          "base_uri": "https://localhost:8080/"
        },
        "id": "TqpXasszsgh9",
        "outputId": "777ded0f-b72f-4d2d-ce92-f50edaf6ed11"
      },
      "source": [
        "#y_predict_test = model.predict_classes(X_test)\n",
        "y_predict_test = (model.predict(X_test_scaled) > 0.5).astype(\"int32\")\n",
        "print(y_predict_test.sum())\n",
        "print(y_test.sum())"
      ],
      "execution_count": 19,
      "outputs": [
        {
          "output_type": "stream",
          "text": [
            "0\n",
            "68\n"
          ],
          "name": "stdout"
        }
      ]
    },
    {
      "cell_type": "code",
      "metadata": {
        "colab": {
          "base_uri": "https://localhost:8080/"
        },
        "id": "M7cnprYGsoVp",
        "outputId": "cb58ca33-ffda-4a3b-80bd-ab73fde8308e"
      },
      "source": [
        "for i in range(2000):\n",
        "    if(y_predict_test[i] or y_test[i]):\n",
        "        print('%s => %d (expected %d)' % (X_test[i].tolist(), y_predict_test[i], y_test[i]))\n",
        "        "
      ],
      "execution_count": 20,
      "outputs": [
        {
          "output_type": "stream",
          "text": [
            "[1.0, 302.0, 310.8, 1615.0, 29.0, 235.0] => 0 (expected 1)\n",
            "[1.0, 303.6, 312.0, 1309.0, 52.9, 86.0] => 0 (expected 1)\n",
            "[1.0, 304.0, 312.9, 1363.0, 62.5, 200.0] => 0 (expected 1)\n",
            "[1.0, 303.0, 311.2, 1374.0, 48.2, 65.0] => 0 (expected 1)\n",
            "[1.0, 302.5, 310.4, 1349.0, 55.1, 187.0] => 0 (expected 1)\n",
            "[2.0, 300.8, 309.4, 1342.0, 62.4, 113.0] => 0 (expected 1)\n",
            "[1.0, 300.7, 311.1, 2478.0, 13.4, 170.0] => 0 (expected 1)\n",
            "[1.0, 301.9, 309.9, 1374.0, 48.5, 180.0] => 0 (expected 1)\n",
            "[1.0, 302.5, 310.3, 1326.0, 58.5, 55.0] => 0 (expected 1)\n",
            "[1.0, 297.5, 308.3, 2564.0, 12.8, 127.0] => 0 (expected 1)\n",
            "[1.0, 303.0, 311.2, 1341.0, 51.0, 174.0] => 0 (expected 1)\n",
            "[1.0, 296.8, 308.1, 1289.0, 62.0, 199.0] => 0 (expected 1)\n",
            "[1.0, 302.6, 311.0, 1369.0, 60.0, 93.0] => 0 (expected 1)\n",
            "[1.0, 303.5, 312.0, 1366.0, 54.5, 30.0] => 0 (expected 1)\n",
            "[1.0, 301.9, 310.4, 1370.0, 51.7, 153.0] => 0 (expected 1)\n",
            "[1.0, 302.0, 310.4, 1357.0, 58.0, 108.0] => 0 (expected 1)\n",
            "[1.0, 302.0, 310.5, 1370.0, 44.4, 85.0] => 0 (expected 1)\n",
            "[1.0, 302.5, 310.2, 1307.0, 54.0, 86.0] => 0 (expected 1)\n",
            "[2.0, 299.3, 308.4, 1542.0, 37.5, 203.0] => 0 (expected 1)\n",
            "[2.0, 303.0, 312.2, 1257.0, 71.3, 122.0] => 0 (expected 1)\n",
            "[1.0, 301.9, 310.5, 1340.0, 55.7, 204.0] => 0 (expected 1)\n",
            "[1.0, 301.0, 310.6, 1493.0, 37.8, 206.0] => 0 (expected 1)\n",
            "[2.0, 302.1, 310.6, 1326.0, 59.1, 88.0] => 0 (expected 1)\n",
            "[1.0, 299.5, 309.4, 1390.0, 58.8, 195.0] => 0 (expected 1)\n",
            "[1.0, 299.0, 309.9, 1373.0, 55.7, 201.0] => 0 (expected 1)\n",
            "[1.0, 298.6, 308.2, 1361.0, 68.2, 172.0] => 0 (expected 1)\n",
            "[0.0, 302.7, 310.8, 1275.0, 55.0, 25.0] => 0 (expected 1)\n",
            "[1.0, 303.8, 313.1, 2497.0, 13.0, 5.0] => 0 (expected 1)\n",
            "[1.0, 300.1, 311.3, 2579.0, 12.5, 64.0] => 0 (expected 1)\n",
            "[1.0, 300.5, 309.3, 1417.0, 51.5, 231.0] => 0 (expected 1)\n",
            "[1.0, 301.4, 310.8, 1285.0, 62.6, 183.0] => 0 (expected 1)\n",
            "[2.0, 301.4, 310.7, 1368.0, 63.7, 92.0] => 0 (expected 1)\n",
            "[1.0, 301.3, 310.1, 1269.0, 56.8, 195.0] => 0 (expected 1)\n",
            "[1.0, 299.1, 310.1, 1435.0, 48.8, 229.0] => 0 (expected 1)\n",
            "[1.0, 302.3, 310.1, 1321.0, 52.7, 134.0] => 0 (expected 1)\n",
            "[0.0, 303.6, 312.2, 1371.0, 54.6, 112.0] => 0 (expected 1)\n",
            "[2.0, 296.7, 307.8, 1258.0, 69.0, 105.0] => 0 (expected 1)\n",
            "[1.0, 297.8, 308.9, 1871.0, 25.6, 200.0] => 0 (expected 1)\n",
            "[1.0, 298.3, 308.1, 1412.0, 52.3, 218.0] => 0 (expected 1)\n",
            "[1.0, 299.3, 308.6, 1384.0, 53.6, 218.0] => 0 (expected 1)\n",
            "[2.0, 297.4, 308.8, 1325.0, 62.4, 204.0] => 0 (expected 1)\n",
            "[1.0, 302.3, 311.4, 1333.0, 66.7, 205.0] => 0 (expected 1)\n",
            "[1.0, 302.5, 310.2, 1329.0, 50.6, 148.0] => 0 (expected 1)\n",
            "[1.0, 296.4, 307.4, 2833.0, 5.6, 213.0] => 0 (expected 1)\n",
            "[1.0, 302.6, 312.1, 1288.0, 68.5, 0.0] => 0 (expected 1)\n",
            "[1.0, 303.1, 312.4, 1404.0, 61.5, 127.0] => 0 (expected 1)\n",
            "[1.0, 302.6, 311.0, 1284.0, 68.0, 114.0] => 0 (expected 1)\n",
            "[1.0, 301.7, 310.9, 1405.0, 46.4, 207.0] => 0 (expected 1)\n",
            "[1.0, 302.4, 310.7, 1362.0, 54.8, 155.0] => 0 (expected 1)\n",
            "[2.0, 302.9, 311.2, 1330.0, 53.7, 200.0] => 0 (expected 1)\n",
            "[0.0, 304.0, 313.2, 1271.0, 68.6, 161.0] => 0 (expected 1)\n",
            "[1.0, 301.9, 311.0, 2691.0, 12.1, 31.0] => 0 (expected 1)\n",
            "[1.0, 301.7, 311.0, 1441.0, 44.3, 208.0] => 0 (expected 1)\n",
            "[0.0, 296.9, 307.8, 1549.0, 35.8, 206.0] => 0 (expected 1)\n",
            "[2.0, 301.9, 310.4, 1373.0, 48.0, 73.0] => 0 (expected 1)\n",
            "[1.0, 300.5, 311.8, 1368.0, 57.9, 191.0] => 0 (expected 1)\n",
            "[1.0, 297.4, 308.5, 1399.0, 61.5, 61.0] => 0 (expected 1)\n",
            "[1.0, 303.8, 313.0, 1365.0, 59.9, 205.0] => 0 (expected 1)\n",
            "[1.0, 297.2, 307.9, 1326.0, 75.4, 172.0] => 0 (expected 1)\n",
            "[1.0, 303.2, 311.4, 1238.0, 54.6, 226.0] => 0 (expected 1)\n",
            "[1.0, 299.2, 310.7, 1737.0, 27.0, 225.0] => 0 (expected 1)\n",
            "[1.0, 303.2, 311.4, 1351.0, 53.8, 8.0] => 0 (expected 1)\n",
            "[2.0, 303.4, 311.4, 1307.0, 54.0, 44.0] => 0 (expected 1)\n",
            "[1.0, 298.0, 308.3, 1405.0, 56.2, 218.0] => 0 (expected 1)\n",
            "[1.0, 300.8, 310.1, 1405.0, 61.2, 189.0] => 0 (expected 1)\n",
            "[1.0, 299.2, 308.5, 1378.0, 50.4, 220.0] => 0 (expected 1)\n",
            "[1.0, 303.4, 311.9, 1298.0, 63.9, 59.0] => 0 (expected 1)\n",
            "[1.0, 303.5, 311.9, 1344.0, 49.3, 93.0] => 0 (expected 1)\n"
          ],
          "name": "stdout"
        }
      ]
    },
    {
      "cell_type": "code",
      "metadata": {
        "colab": {
          "base_uri": "https://localhost:8080/",
          "height": 463
        },
        "id": "lpNVBtCfssyw",
        "outputId": "ce48c9fb-ab88-4c4a-959e-3ccad9defc5d"
      },
      "source": [
        "\n",
        "cm = confusion_matrix(y_test, y_predict_test)\n",
        "sns.heatmap(cm, annot=True, fmt='d')\n",
        "plt.show()\n",
        "print(classification_report(y_test,y_predict_test))"
      ],
      "execution_count": 21,
      "outputs": [
        {
          "output_type": "display_data",
          "data": {
            "image/png": "[encoded data removed]",
            "text/plain": [
              "<Figure size 432x288 with 2 Axes>"
            ]
          },
          "metadata": {
            "tags": [],
            "needs_background": "light"
          }
        },
        {
          "output_type": "stream",
          "text": [
            "              precision    recall  f1-score   support\n",
            "\n",
            "           0       0.97      1.00      0.98      1932\n",
            "           1       0.00      0.00      0.00        68\n",
            "\n",
            "    accuracy                           0.97      2000\n",
            "   macro avg       0.48      0.50      0.49      2000\n",
            "weighted avg       0.93      0.97      0.95      2000\n",
            "\n"
          ],
          "name": "stdout"
        },
        {
          "output_type": "stream",
          "text": [
            "/usr/local/lib/python3.7/dist-packages/sklearn/metrics/_classification.py:1272: UndefinedMetricWarning: Precision and F-score are ill-defined and being set to 0.0 in labels with no predicted samples. Use `zero_division` parameter to control this behavior.\n",
            "  _warn_prf(average, modifier, msg_start, len(result))\n"
          ],
          "name": "stderr"
        }
      ]
    },
    {
      "cell_type": "code",
      "metadata": {
        "id": "JBH7VkqSstUt"
      },
      "source": [
        ""
      ],
      "execution_count": null,
      "outputs": []
    }
  ]
}